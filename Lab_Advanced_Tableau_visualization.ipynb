{
 "cells": [
  {
   "cell_type": "markdown",
   "id": "76435188",
   "metadata": {},
   "source": [
    "# Lab | Advanced Tableau visualization"
   ]
  },
  {
   "cell_type": "markdown",
   "id": "994dfd35",
   "metadata": {},
   "source": [
    "Link for the dashboard created on tableau:\n",
    "https://public.tableau.com/app/profile/francisco.duarte6075/viz/LabAdvancedTableauvisualization_16453964846530/Dashboard1?publish=yes\n",
    "\n",
    "Link for the story created on tableau (with one added plot):\n",
    "https://public.tableau.com/app/profile/francisco.duarte6075/viz/LabAdvancedTableauvisualization_16453964846530/Story1?publish=yes"
   ]
  }
 ],
 "metadata": {
  "kernelspec": {
   "display_name": "Python 3",
   "language": "python",
   "name": "python3"
  },
  "language_info": {
   "codemirror_mode": {
    "name": "ipython",
    "version": 3
   },
   "file_extension": ".py",
   "mimetype": "text/x-python",
   "name": "python",
   "nbconvert_exporter": "python",
   "pygments_lexer": "ipython3",
   "version": "3.8.8"
  }
 },
 "nbformat": 4,
 "nbformat_minor": 5
}
